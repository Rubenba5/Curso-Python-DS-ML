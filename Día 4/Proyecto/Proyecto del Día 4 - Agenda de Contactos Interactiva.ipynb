{
 "cells": [
  {
   "cell_type": "markdown",
   "id": "0d153c56",
   "metadata": {},
   "source": [
    "# Proyecto del Día 4: Agenda de Contactos Interactiva\n",
    "\n",
    "### Objetivo\n",
    "Crear una agenda de contactos utilizando Python, aplicando los conceptos aprendidos sobre listas, tuplas, diccionarios, booleanos y estructuras de control.\n",
    "\n",
    "\n",
    "### Consigna\n",
    "Cada vez que inicies tu agenda, va a comenzar preguntándole al usuario cuál de estas opciones prefiere:\n",
    "1. **Añadir un contacto**: Crear un nuevo registro en la agenda (nombre, telefono).\n",
    "2. **Buscar un contacto**: Buscar un contacto por nombre y mostrar su teléfono, o un mensaje de error si no lo encuentra.\n",
    "3. **Editar un contacto**: Modificar teléfono de un contacto existente.\n",
    "4. **Eliminar un contacto**: Eliminar un contacto de la agenda (investiga los métodos disponibles para lograrlo)\n",
    "5. **Mostrar todos los contactos**: Mostrar todos los contactos guardados en la agenda.\n",
    "\n",
    "El usuario elegirá una de esas opciones, y el programa ejecutará el código correspondiente para procesar su pedido y mostrarle el resultado.\n",
    "\n",
    "\n",
    "### Notas y Ayudas\n",
    "- Debido a que vas a almacenar pares de datos (nombre y teléfono) ¿cuál crees que sería la mejor estructura de datos para guardarlos: **listas**, **tuplas** o **diccionarios**?\n",
    "- Algunas de las funcionalidades de tu agenda, pueden requerir que investigues algunos métodos que no hemos visto en las lecciones, pero que podrás descubrir con *type*, *dir* y *help*.\n",
    "<br>  \n",
    "<br>\n",
    "<br>"
   ]
  },
  {
   "cell_type": "markdown",
   "id": "c6c4ab9d",
   "metadata": {},
   "source": [
    "## Resolución"
   ]
  },
  {
   "cell_type": "markdown",
   "id": "cb507a52",
   "metadata": {},
   "source": [
    "Crea una agenda vacía"
   ]
  },
  {
   "cell_type": "code",
   "id": "e9c026bd",
   "metadata": {
    "ExecuteTime": {
     "end_time": "2025-05-28T21:17:36.401581Z",
     "start_time": "2025-05-28T21:17:36.398083Z"
    }
   },
   "source": "agenda = {\"Juan\": 22}",
   "outputs": [],
   "execution_count": 6
  },
  {
   "cell_type": "markdown",
   "id": "be7b6b93",
   "metadata": {},
   "source": [
    "En la siguiente celda, incluye el código para ejecutar las siguientes instrucciones:\n",
    "- Mostrar en pantalla las opciones\n",
    "- Pedirle al usuario que elija las opciones\n",
    "- Crear una estructura de control (*if*, *elif* y *else*) que ejecute diferentes bloques de código según las opciones elegidas."
   ]
  },
  {
   "cell_type": "code",
   "id": "45fbcf91",
   "metadata": {
    "ExecuteTime": {
     "end_time": "2025-05-28T21:21:30.473874Z",
     "start_time": "2025-05-28T21:21:25.547589Z"
    }
   },
   "source": [
    "print(\"Bienvenido de Nuevo!\")\n",
    "print(\"\")\n",
    "print(\"Hay cinco opciones disponibles para tu agenda personal:\")\n",
    "print(\"1. Añadir un contacto\")\n",
    "print(\"2. Buscar un contacto\")\n",
    "print(\"3. Editar un contacto\")\n",
    "print(\"4. Eliminar un contacto\")\n",
    "print(\"5. Monstrar todos los contactos\")\n",
    "print(\"\")\n",
    "Decision = input(\"¿Qué deseas hacer? \")\n",
    "\n",
    "if Decision == \"1\":\n",
    "    Nombre = input(\"¿Como deseas agregar a este contacto? \")\n",
    "    Numero = input(\"¿Cual es el número de telefono asociado a este contacto? \")\n",
    "    agenda[Nombre] = Numero\n",
    "\n",
    "elif Decision == \"2\":\n",
    "    Nombre = input(\"¿Qué número deseas buscar? \")\n",
    "    if Nombre in agenda:\n",
    "        print(f\"El número de telefono de {Nombre} es: {agenda[Nombre]}\")\n",
    "\n",
    "    else:\n",
    "        print(\"¡Este contacto no existe!\")\n",
    "\n",
    "elif Decision == \"3\":\n",
    "    Nombre = input(\"¿Qué contacto deseas editar? \")\n",
    "    Numero = input(\"¿Qué número quieres añadirle? \")\n",
    "    if Nombre in agenda:\n",
    "        agenda.update({Nombre: Numero})\n",
    "\n",
    "    else:\n",
    "        print(\"¡Contacto no encontrado!\")\n",
    "\n",
    "elif Decision == \"4\":\n",
    "    Nombre = input(\"¿Qué contacto deseas eliminar? \")\n",
    "    if Nombre in agenda:\n",
    "        agenda.pop(Nombre)\n",
    "\n",
    "    else:\n",
    "        print(\"¡Contacto no encontrado!\")\n",
    "\n",
    "elif Decision == \"5\":\n",
    "    print(agenda)\n",
    "\n",
    "else:\n",
    "    print(\"¡Acción no detectada!\")\n",
    "\n"
   ],
   "outputs": [
    {
     "name": "stdout",
     "output_type": "stream",
     "text": [
      "Bienvenido de Nuevo!\n",
      "\n",
      "Hay cinco opciones disponibles para tu agenda personal:\n",
      "1. Añadir un contacto\n",
      "2. Buscar un contacto\n",
      "3. Editar un contacto\n",
      "4. Eliminar un contacto\n",
      "5. Monstrar todos los contactos\n",
      "\n",
      "{}\n"
     ]
    }
   ],
   "execution_count": 8
  }
 ],
 "metadata": {
  "kernelspec": {
   "display_name": "Python 3 (ipykernel)",
   "language": "python",
   "name": "python3"
  },
  "language_info": {
   "codemirror_mode": {
    "name": "ipython",
    "version": 3
   },
   "file_extension": ".py",
   "mimetype": "text/x-python",
   "name": "python",
   "nbconvert_exporter": "python",
   "pygments_lexer": "ipython3",
   "version": "3.11.5"
  }
 },
 "nbformat": 4,
 "nbformat_minor": 5
}
