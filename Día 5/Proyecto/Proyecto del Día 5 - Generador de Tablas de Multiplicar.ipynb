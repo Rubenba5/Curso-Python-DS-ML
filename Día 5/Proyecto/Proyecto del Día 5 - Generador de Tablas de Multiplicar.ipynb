{
 "cells": [
  {
   "cell_type": "markdown",
   "id": "a948c51c",
   "metadata": {},
   "source": [
    "# Proyecto del Día 5: Generador de Tablas de Multiplicar"
   ]
  },
  {
   "cell_type": "markdown",
   "id": "e8159936",
   "metadata": {},
   "source": [
    "\n",
    "Este proyecto de Python permite al usuario generar tablas de multiplicar para cualquier número y hasta un límite específico de multiplicación.\n",
    "\n",
    "## Consigna\n",
    "Vas a crear un código que le pida al usuario un **número para multiplicar**, y un **número límite** para establecer hasta cuánto lo vamos a multiplicar.\n",
    "\n",
    "Por ejemplo, si el usuario elige:\n",
    "- Número: 5\n",
    "- Límite: 3\n",
    "\n",
    "El programa le devolverá:\n",
    "```\n",
    "5 x 1 = 5\n",
    "5 x 2 = 10\n",
    "5 x 3 = 15\n",
    "````\n",
    "\n",
    "Cuando el programa termine de mostrar los resultados, debe preguntarle al usuario si desea calcular otra tabla, o finalizar el programa.\n",
    "\n",
    "**Recomendaciones**:\n",
    "- Crear una función que se encargue de calcular las tablas\n",
    "- Crear una función global que se encargue de:\n",
    "    - Solicitar al usuario un número para generar su tabla de multiplicar.\n",
    "    - Pedir el límite hasta donde se quiere llegar en la multiplicación.\n",
    "    - Llamar a la función que crea las tablas\n",
    "    \n",
    "- Emplear bucles `for` y la función `range` para la lógica de la tabla.\n",
    "- Implementar un bucle `while` para que el usuario pueda generar múltiples tablas o salir del programa.\n"
   ]
  },
  {
   "cell_type": "code",
   "id": "39ac3e8e",
   "metadata": {
    "ExecuteTime": {
     "end_time": "2025-05-30T16:18:37.296718Z",
     "start_time": "2025-05-30T16:18:22.760944Z"
    }
   },
   "source": [
    "# Tablas de Multiplicar\n",
    "def tablas_multiplicar(numero, limite):\n",
    "    print(f\"✱ Tabla de Multiplicar del {numero}:\")\n",
    "    for numero_mul in range(1, int(limite) + 1):\n",
    "        print(f\" ➧ {numero} x {numero_mul} = {int(numero) * int(numero_mul)}\")\n",
    "\n",
    "# Preguntar\n",
    "def preguntar_numero():\n",
    "    print(\"✤ Bienvenido al Generador de Tablas de Multiplicar\")\n",
    "    print(\"\")\n",
    "    numero = input(\"¿Qué número desea multiplicar? \")\n",
    "    limite = input(\"¿Hasta qué número desea multiplicar dicho numero? \")\n",
    "    tablas_multiplicar(numero, limite)\n",
    "\n",
    "# Preguntar Otra vez\n",
    "def preguntar_numero_x2():\n",
    "    lista_si = [\"Si\", \"si\", \"sI\", \"SI\"]\n",
    "    lista_no = [\"No\", \"no\", \"nO\", \"NO\"]\n",
    "    print(\"\")\n",
    "    respuesta = input(\"¿Quiere volver a multiplicar otro numero? \")\n",
    "\n",
    "    if respuesta in lista_no:\n",
    "        global Bucle\n",
    "        Bucle = 0\n",
    "\n",
    "    elif respuesta in lista_si:\n",
    "        numero = input(\"¿Qué número desea multiplicar? \")\n",
    "        limite = input(\"¿Hasta qué número desea multiplicar dicho numero? \")\n",
    "        print(\"\")\n",
    "        tablas_multiplicar(numero, limite)\n",
    "\n",
    "# Ejecucion\n",
    "preguntar_numero()\n",
    "Bucle = 1\n",
    "\n",
    "while Bucle == 1:\n",
    "    preguntar_numero_x2()\n",
    "\n"
   ],
   "outputs": [
    {
     "name": "stdout",
     "output_type": "stream",
     "text": [
      "✤ Bienvenido al Generador de Tablas de Multiplicar\n",
      "\n",
      "✱ Tabla de Multiplicar del 2:\n",
      " ➧ 2 x 1 = 2\n",
      " ➧ 2 x 2 = 4\n",
      " ➧ 2 x 3 = 6\n",
      " ➧ 2 x 4 = 8\n",
      " ➧ 2 x 5 = 10\n",
      "\n",
      "✱ Tabla de Multiplicar del 10:\n",
      " ➧ 10 x 1 = 10\n",
      " ➧ 10 x 2 = 20\n",
      " ➧ 10 x 3 = 30\n",
      " ➧ 10 x 4 = 40\n",
      " ➧ 10 x 5 = 50\n",
      "\n"
     ]
    }
   ],
   "execution_count": 49
  }
 ],
 "metadata": {
  "kernelspec": {
   "display_name": "Python 3 (ipykernel)",
   "language": "python",
   "name": "python3"
  },
  "language_info": {
   "codemirror_mode": {
    "name": "ipython",
    "version": 3
   },
   "file_extension": ".py",
   "mimetype": "text/x-python",
   "name": "python",
   "nbconvert_exporter": "python",
   "pygments_lexer": "ipython3",
   "version": "3.11.5"
  }
 },
 "nbformat": 4,
 "nbformat_minor": 5
}
