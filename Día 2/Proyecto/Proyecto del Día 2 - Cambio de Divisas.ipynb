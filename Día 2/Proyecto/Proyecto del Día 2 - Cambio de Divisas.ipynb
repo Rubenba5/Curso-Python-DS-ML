{
 "cells": [
  {
   "cell_type": "markdown",
   "id": "5bc32480",
   "metadata": {},
   "source": [
    "# Proyecto del Día 2: Cambio de Divisas\n",
    "\n",
    "### Aclaración\n",
    "Como este es tu primer proyecto, va a estar **detalladamente guiado** con instrucciones para cada una de las celdas. A medida que avancemos en el curso, los proyectos serán menos guiados, y más complejos. Este proyecto es sencillo para que comencemos con algo fácil, y además porque aún no hemos aprendido suficientes herramientas como para hacer programas más funcionales, pero aún así te va a sorprender cómo pudimos unir todo lo aprendido hoy y realizar un buen desafío.\n",
    "\n",
    "\n",
    "### Consigna.\n",
    "Vas a crear un código que simule el funcionamiento de una **máquina de cambio de divisas**. Por el momento nuestra máquina sólo recibe **dólares** y devuelve **euros** ¡No es poco para ser tu primer programa!\n",
    "\n",
    "Tu máquina va a necesitar disponer de variables que le brinden la siguiente información:\n",
    "- Nombre del usuario\n",
    "- Fecha en que se realiza la operación\n",
    "- Momento del día (día, tarde o noche)\n",
    "- Cantidad de dólares a cambiar\n",
    "\n",
    "Con todo eso, la máquina va a imprimir en pantalla (en diferentes líneas por supuesto) un mensaje que incluya los siguientes requisitos:\n",
    "\n",
    "- Un saludo de bienvenida\n",
    "- Información de la cantidad de dolares que va a entregar el usuario\n",
    "- Información de la cantidad de euros que va a recibir\n",
    "- Detalle específico de cuántos billetes de €10, de €1, y el saldo en monedas que le serán entregados\n",
    "- Un saludo de despedida\n",
    "\n",
    "### Nota importante\n",
    "No hay una única manera de hacer esto. En programación siempre hay muchos caminos para lograr el mismo objetivo. Mientras que logres cumplir con la consigna, cualquier abordaje (sensato) es válido.\n",
    "\n",
    "En las siguientes celdas te iré proporcionando las instrucciones específica para que puedas desarrollar el proyecto paso a paso. De todos modos, si te sientes valiente, puedes abrir un nuevo cuaderno en blanco y hacerlo todo desde cero por tí mismo. Si lo logras, felicitaciones, pero si te encuentras bloqueado en algún momento, nada de sentir vergüenza. Te vuelves a este cuaderno, y lo sigues con mis instrucciones.\n",
    "\n",
    "### Nota sumer-mega-archi importante\n",
    "La idea no sólo es aprender, sino fundamentalmente divertirse. Programar es hermoso, es desafiante, es la oportunidad de concentrarnos en un problema y poner lo mejor de nosotros para resolverlo.\n",
    "\n",
    "Eso no significa que si no lo puedes resolver no te vas a divertir. Todo lo contrario. Si bien resolver problemas por uno mismo es emocionante y excitante, una de las sensaciones más placenteras que he experimentado, es creer que algo es imposible, y que luego alguien en quien confío me muestre el camino para lograrlo. Se llama \"momento Eureka\", y espero que te atrevas a experimentarlo tu también.\n",
    "<br>\n",
    "<br>\n",
    "<br>"
   ]
  },
  {
   "cell_type": "markdown",
   "id": "03b0570d",
   "metadata": {},
   "source": [
    "## Instrucciones paso a paso\n",
    "\n",
    "1. Escribe el código necesario para saludar al usuario, antes de comenzar sus operaciones. Vas a crear tres variables que contengan, respectivamente, el **nombre** del usuario, la **fecha** del día en que está haciendo la operación, y un **saludo** que puede ser *Buenos días*, *Buenas tardes* o *Buenas noches*."
   ]
  },
  {
   "cell_type": "code",
   "id": "1d831394",
   "metadata": {
    "ExecuteTime": {
     "end_time": "2025-05-27T20:27:28.077083Z",
     "start_time": "2025-05-27T20:27:28.073666Z"
    }
   },
   "source": [
    "nombre = \"Ruben\"\n",
    "fecha = \"27/05/2025\"\n",
    "saludo = \"Buenas tardes\""
   ],
   "outputs": [],
   "execution_count": 3
  },
  {
   "cell_type": "markdown",
   "id": "0107668a",
   "metadata": {},
   "source": [
    "2. Crea una variable llamada **bienvenida** que concatene toda la información anterior en un solo mensaje que salude al usuario  que va a usar el servicio de cambio de divisas. Puedes poner la creatividad que gustes en este mensaje.\n",
    "\n",
    "**Pista**: Recuerda que en la lección operaciones vimos cómo puedes concatenar strings para formar una sola cadena de texto."
   ]
  },
  {
   "cell_type": "code",
   "id": "eb011cf0",
   "metadata": {
    "ExecuteTime": {
     "end_time": "2025-05-27T20:27:29.181729Z",
     "start_time": "2025-05-27T20:27:29.178164Z"
    }
   },
   "source": "bienvenida = f\"{saludo} {nombre}\"",
   "outputs": [],
   "execution_count": 4
  },
  {
   "cell_type": "markdown",
   "id": "11ebd166",
   "metadata": {},
   "source": [
    "3. Crea una variable numérica llamada **dolares** que almacene la cantidad de dólares que quieres cambiar por euros. Ten en cuenta que los valores en *moneda* suelen expresarse con números decimales, por lo que sería ideal utilizar un valor de tipo **float**."
   ]
  },
  {
   "cell_type": "code",
   "id": "4a65fdf7",
   "metadata": {
    "ExecuteTime": {
     "end_time": "2025-05-27T20:27:30.738511Z",
     "start_time": "2025-05-27T20:27:30.735215Z"
    }
   },
   "source": "dolares = 50.10",
   "outputs": [],
   "execution_count": 5
  },
  {
   "cell_type": "markdown",
   "id": "8fc42727",
   "metadata": {},
   "source": [
    "4. Crea una variable llamada **euros_a_recibir** que guarde el resultado de calcular cuántos euros corresponden para la cantidad de dolares ingresada en la variable **dolares**. El tipo de cambio que usaremos es de *0.88*."
   ]
  },
  {
   "cell_type": "code",
   "id": "cada2ca6",
   "metadata": {
    "ExecuteTime": {
     "end_time": "2025-05-27T20:27:31.569403Z",
     "start_time": "2025-05-27T20:27:31.565955Z"
    }
   },
   "source": "euros_a_recibir = dolares * 0.80",
   "outputs": [],
   "execution_count": 6
  },
  {
   "cell_type": "markdown",
   "id": "66eabb60",
   "metadata": {},
   "source": [
    "5. Nuestra máquina (imaginaria), solo entrega billetes de €10, y de €1 (los decimales los entregará en monedas). Crea 3 variables para cada uno de esos valores (**billetes_10**, **billetes_1** y **monedas**), que contengan los cálculos necesarios para saber cuánto valor en monedas, y cuántos billetes de cada tipo recibirá el usuario."
   ]
  },
  {
   "cell_type": "code",
   "id": "e464555d",
   "metadata": {
    "ExecuteTime": {
     "end_time": "2025-05-27T20:29:36.675418Z",
     "start_time": "2025-05-27T20:29:36.671593Z"
    }
   },
   "source": "billetes_10 = euros_a_recibir // 10",
   "outputs": [],
   "execution_count": 15
  },
  {
   "cell_type": "code",
   "id": "0f6c8ae9",
   "metadata": {
    "ExecuteTime": {
     "end_time": "2025-05-27T20:27:33.684038Z",
     "start_time": "2025-05-27T20:27:33.680009Z"
    }
   },
   "source": "billetes_1 = (euros_a_recibir - (billetes_10 * 10)) // 1\n",
   "outputs": [],
   "execution_count": 8
  },
  {
   "cell_type": "code",
   "id": "0f20c4dc",
   "metadata": {
    "ExecuteTime": {
     "end_time": "2025-05-27T20:27:34.650463Z",
     "start_time": "2025-05-27T20:27:34.647085Z"
    }
   },
   "source": "monedas = euros_a_recibir % 1",
   "outputs": [],
   "execution_count": 9
  },
  {
   "cell_type": "markdown",
   "id": "a04f72df",
   "metadata": {},
   "source": [
    "6. Finalmente escribe una serie de declaraciones **print()** que expresen el mensaje completo, mostrando los siguientes elementos:\n",
    "- Mensaje de bienvenida\n",
    "- Información sobre los dólares que entregará\n",
    "- Información sobre los euros que recibirá\n",
    "- Detalle de billetes y monedas que le serán entregados\n",
    "- Saludo de despedida\n",
    "\n",
    "**Importante**: Cómo aún no hemos aprendido a concatenar números y texto en la misma línea de impresión, en muchas ocaciones deberás crear líneas separadas para que el mensaje se muestre como en el siguiente ejemplo:\n",
    "\n",
    "```\n",
    "Dolares a entregar:\n",
    "150.45\n",
    "```\n"
   ]
  },
  {
   "cell_type": "code",
   "id": "23786052",
   "metadata": {
    "ExecuteTime": {
     "end_time": "2025-05-27T20:29:38.040678Z",
     "start_time": "2025-05-27T20:29:38.033821Z"
    }
   },
   "source": [
    "print(bienvenida)\n",
    "print(f\"Hoy es: {fecha}\")\n",
    "print(\"\")\n",
    "print(f\"Dolares a entregar: {dolares}\")\n",
    "print(f\"Euros a recibir: {euros_a_recibir}\")\n",
    "print(\"\")\n",
    "print(f\"Billetes de 10: {billetes_10}\")\n",
    "print(f\"Billetes de 1: {billetes_1}\")\n",
    "print(f\"Monedas: {monedas}\")\n",
    "print(\"\")\n",
    "print(\"Gracias por usar nuestro servicio.\")"
   ],
   "outputs": [
    {
     "name": "stdout",
     "output_type": "stream",
     "text": [
      "Buenas tardes Ruben\n",
      "Hoy es: 27/05/2025\n",
      "\n",
      "Dolares a entregar: 50.1\n",
      "Euros a recibir: 40.080000000000005\n",
      "\n",
      "Billetes de 10: 4.0\n",
      "Billetes de 1: 0.0\n",
      "Monedas: 0.0800000000000054\n",
      "\n",
      "Gracias por usar nuestro servicio.\n"
     ]
    }
   ],
   "execution_count": 16
  },
  {
   "metadata": {},
   "cell_type": "code",
   "outputs": [],
   "execution_count": null,
   "source": "",
   "id": "1ad44c31e817bc5b"
  }
 ],
 "metadata": {
  "kernelspec": {
   "display_name": "Python 3 (ipykernel)",
   "language": "python",
   "name": "python3"
  },
  "language_info": {
   "codemirror_mode": {
    "name": "ipython",
    "version": 3
   },
   "file_extension": ".py",
   "mimetype": "text/x-python",
   "name": "python",
   "nbconvert_exporter": "python",
   "pygments_lexer": "ipython3",
   "version": "3.11.5"
  }
 },
 "nbformat": 4,
 "nbformat_minor": 5
}
