{
 "cells": [
  {
   "cell_type": "markdown",
   "id": "9572445f",
   "metadata": {},
   "source": [
    "# Proyecto del Día 3: Analizador de Texto\n",
    "\n",
    "Este proyecto tiene como objetivo aplicar los conceptos aprendidos sobre strings, input, indexación y formateo de strings en Python. El programa permitirá al usuario ingresar un texto y luego elegir realizar diversas operaciones de análisis sobre ese texto.\n",
    "\n",
    "## Consigna\n",
    "Vas a crear un programa que le pida al usuario que ingrese un texto de al menos 10 palabras. Tu programa va a procesar ese texto, lo va a procesar, y le va a devolver un análisis detallado, que incluya:\n",
    "1. Contar el número total de caracteres en el texto\n",
    "2. Contar el número de caracteres sin incluir los espacios\n",
    "3. Contar la cantidad de vocales que hay en el texto\n",
    "4. Contar el número total de palabras en el texto ingresado\n",
    "\n",
    "**nota**: para resolver los siguientes items, deberás investigar otros métodos de strings que no hemos visto. Recuerda valerte de *type*, *dir* y *help*\n",
    "\n",
    "5. Eliminar la primera palabra\n",
    "6. Reemplazar todos los espacios por guiones medios (-)\n",
    "8. Cambia las mayúsculas a minúsculas y las minúsculas a mayúsculas \n",
    "\n",
    "Al finalizar el procesamiento, se imprimirán 8 cadenas literales mostrando los resultados del análisis (una cadena por cada resultado).\n",
    "<br>\n",
    "<br>\n",
    "<br>"
   ]
  },
  {
   "cell_type": "markdown",
   "id": "e5cd9e4d",
   "metadata": {},
   "source": [
    "### Resolución\n",
    "\n",
    "Ingreso del usuario:"
   ]
  },
  {
   "metadata": {
    "ExecuteTime": {
     "end_time": "2025-05-28T19:34:19.953586Z",
     "start_time": "2025-05-28T19:34:18.633460Z"
    }
   },
   "cell_type": "code",
   "source": "texto = input(\"Ingrese el texto a analizar: \")",
   "id": "fa27da8c",
   "outputs": [],
   "execution_count": 42
  },
  {
   "cell_type": "markdown",
   "id": "41214377",
   "metadata": {},
   "source": "1. Contar el número total de caracteres en el texto"
  },
  {
   "cell_type": "code",
   "id": "40448873",
   "metadata": {
    "ExecuteTime": {
     "end_time": "2025-05-28T19:34:20.000251Z",
     "start_time": "2025-05-28T19:34:19.995588Z"
    }
   },
   "source": "contar_caracteres = len(texto)",
   "outputs": [],
   "execution_count": 43
  },
  {
   "cell_type": "markdown",
   "id": "3d6378dc",
   "metadata": {},
   "source": [
    "2. Contar el número de caracteres sin incluir los espacios"
   ]
  },
  {
   "cell_type": "code",
   "id": "991b29c7",
   "metadata": {
    "ExecuteTime": {
     "end_time": "2025-05-28T19:34:20.035321Z",
     "start_time": "2025-05-28T19:34:20.031539Z"
    }
   },
   "source": "contar_caracteres_sin_espacios = len(texto.replace(\" \", \"\"))",
   "outputs": [],
   "execution_count": 44
  },
  {
   "cell_type": "markdown",
   "id": "c6e62385",
   "metadata": {},
   "source": [
    "3. Contar la cantidad de vocales que hay en el texto"
   ]
  },
  {
   "cell_type": "code",
   "id": "65b19bc7",
   "metadata": {
    "ExecuteTime": {
     "end_time": "2025-05-28T19:34:20.098050Z",
     "start_time": "2025-05-28T19:34:20.093229Z"
    }
   },
   "source": [
    "vocal_a = texto.count(\"a\")\n",
    "vocal_e = texto.count(\"e\")\n",
    "vocal_i = texto.count(\"i\")\n",
    "vocal_o = texto.count(\"o\")\n",
    "vocal_u = texto.count(\"u\")\n",
    "vocales_total = vocal_a + vocal_e + vocal_i + vocal_o + vocal_u"
   ],
   "outputs": [],
   "execution_count": 45
  },
  {
   "cell_type": "markdown",
   "id": "4b6211c5",
   "metadata": {},
   "source": [
    "4. Contar el número total de palabras en el texto ingresado"
   ]
  },
  {
   "cell_type": "code",
   "id": "5b6eb1b1",
   "metadata": {
    "ExecuteTime": {
     "end_time": "2025-05-28T19:34:20.136175Z",
     "start_time": "2025-05-28T19:34:20.130910Z"
    }
   },
   "source": "contar_palabras = len(texto.split())",
   "outputs": [],
   "execution_count": 46
  },
  {
   "cell_type": "markdown",
   "id": "bee5597e",
   "metadata": {},
   "source": [
    "5. Eliminar la primera palabra"
   ]
  },
  {
   "cell_type": "code",
   "id": "8bcbfe9d",
   "metadata": {
    "ExecuteTime": {
     "end_time": "2025-05-28T19:34:20.186170Z",
     "start_time": "2025-05-28T19:34:20.180414Z"
    }
   },
   "source": [
    "texto_sin_primera_palabra = texto.split()\n",
    "texto_sin_primera_palabra.pop(0)"
   ],
   "outputs": [
    {
     "data": {
      "text/plain": [
       "'Este'"
      ]
     },
     "execution_count": 47,
     "metadata": {},
     "output_type": "execute_result"
    }
   ],
   "execution_count": 47
  },
  {
   "cell_type": "markdown",
   "id": "d5b05440",
   "metadata": {},
   "source": [
    "6. Reemplazar todos los espacios por guiones medios (-)"
   ]
  },
  {
   "cell_type": "code",
   "id": "90a21e61",
   "metadata": {
    "ExecuteTime": {
     "end_time": "2025-05-28T19:34:20.229673Z",
     "start_time": "2025-05-28T19:34:20.225920Z"
    }
   },
   "source": "espacios_guiones = texto.replace(\" \", \"-\")",
   "outputs": [],
   "execution_count": 48
  },
  {
   "cell_type": "markdown",
   "id": "8a61c508",
   "metadata": {},
   "source": [
    "7. Cambia las mayúsculas a minúsculas y las minúsculas a mayúsculas"
   ]
  },
  {
   "cell_type": "code",
   "id": "8cb35aaf",
   "metadata": {
    "ExecuteTime": {
     "end_time": "2025-05-28T19:34:20.269917Z",
     "start_time": "2025-05-28T19:34:20.266686Z"
    }
   },
   "source": "mayusculas_minisculas = texto.swapcase()",
   "outputs": [],
   "execution_count": 49
  },
  {
   "cell_type": "markdown",
   "id": "66b8d816",
   "metadata": {},
   "source": [
    "Muéstrale al usuario los resultados del análisis de su texto."
   ]
  },
  {
   "cell_type": "code",
   "id": "eb0d449a",
   "metadata": {
    "ExecuteTime": {
     "end_time": "2025-05-28T19:34:20.332290Z",
     "start_time": "2025-05-28T19:34:20.323713Z"
    }
   },
   "source": [
    "print(f\"({texto})\")\n",
    "print(\"\")\n",
    "print(f\"Su texto tiene las siguientes cualidades:\")\n",
    "print(f\"- Contine {contar_caracteres} caracteres.\")\n",
    "print(f\"- Contiene {contar_caracteres_sin_espacios} caracteres omitiendo los espacios.\")\n",
    "print(f\"- Contiene {vocales_total} vocales en total.\")\n",
    "print(f\"- Contiene {contar_palabras} palabras.\")\n",
    "print(f\"- Este texto sin la primera palabra seria: {\" \".join(texto_sin_primera_palabra)}\")\n",
    "print(f\"- Este texto replazando todos los espacios pòr guiones seria: {espacios_guiones}\")\n",
    "print(f\"- Este texto cambiando las mayúsculas y minusculas seria: {mayusculas_minisculas}\")"
   ],
   "outputs": [
    {
     "name": "stdout",
     "output_type": "stream",
     "text": [
      "(Este curso de Python para Data Science te va a llevar a lo máximo)\n",
      "\n",
      "Su texto tiene las siguientes cualidades:\n",
      "- Contine 65 caracteres.\n",
      "- Contiene 52 caracteres omitiendo los espacios.\n",
      "- Contiene 21 vocales en total.\n",
      "- Contiene 14 palabras.\n",
      "- Este texto sin la primera palabra seria: curso de Python para Data Science te va a llevar a lo máximo\n",
      "- Este texto replazando todos los espacios pòr guiones seria: Este-curso-de-Python-para-Data-Science-te-va-a-llevar-a-lo-máximo\n",
      "- Este texto cambiando las mayúsculas y minusculas seria: eSTE CURSO DE pYTHON PARA dATA sCIENCE TE VA A LLEVAR A LO MÁXIMO\n"
     ]
    }
   ],
   "execution_count": 50
  }
 ],
 "metadata": {
  "kernelspec": {
   "display_name": "Python 3 (ipykernel)",
   "language": "python",
   "name": "python3"
  },
  "language_info": {
   "codemirror_mode": {
    "name": "ipython",
    "version": 3
   },
   "file_extension": ".py",
   "mimetype": "text/x-python",
   "name": "python",
   "nbconvert_exporter": "python",
   "pygments_lexer": "ipython3",
   "version": "3.11.5"
  }
 },
 "nbformat": 4,
 "nbformat_minor": 5
}
