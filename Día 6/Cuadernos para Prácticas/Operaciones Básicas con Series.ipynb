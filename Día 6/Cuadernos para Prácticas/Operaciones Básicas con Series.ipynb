{
 "cells": [
  {
   "metadata": {},
   "cell_type": "markdown",
   "source": "# ⇢ Operaciones Básicas con Series:",
   "id": "53e3afe74096d850"
  },
  {
   "metadata": {},
   "cell_type": "markdown",
   "source": "### • Importar Pandas",
   "id": "c47fb6e88ff6e363"
  },
  {
   "cell_type": "code",
   "id": "4fd2cfc9",
   "metadata": {
    "ExecuteTime": {
     "end_time": "2025-06-01T18:12:44.129492Z",
     "start_time": "2025-06-01T18:12:43.494381Z"
    }
   },
   "source": [
    "import pandas as pd"
   ],
   "outputs": [],
   "execution_count": 2
  },
  {
   "metadata": {},
   "cell_type": "markdown",
   "source": "### • Crear Serie",
   "id": "e5d890b8921da785"
  },
  {
   "cell_type": "code",
   "id": "9e5b4647",
   "metadata": {
    "ExecuteTime": {
     "end_time": "2025-06-01T18:12:46.416408Z",
     "start_time": "2025-06-01T18:12:46.404262Z"
    }
   },
   "source": [
    "serie = pd.Series([10, 20, 30, 40, 50])\n",
    "serie"
   ],
   "outputs": [
    {
     "data": {
      "text/plain": [
       "0    10\n",
       "1    20\n",
       "2    30\n",
       "3    40\n",
       "4    50\n",
       "dtype: int64"
      ]
     },
     "execution_count": 3,
     "metadata": {},
     "output_type": "execute_result"
    }
   ],
   "execution_count": 3
  },
  {
   "metadata": {},
   "cell_type": "markdown",
   "source": "### • Sumar 10 al Indice 0",
   "id": "f3f25765facef997"
  },
  {
   "metadata": {
    "ExecuteTime": {
     "end_time": "2025-06-01T18:13:17.709717Z",
     "start_time": "2025-06-01T18:13:17.701653Z"
    }
   },
   "cell_type": "code",
   "source": [
    "serie[0] = serie[0] + 10\n",
    "serie"
   ],
   "id": "4c56230765ee21fe",
   "outputs": [
    {
     "data": {
      "text/plain": [
       "0    20\n",
       "1    20\n",
       "2    30\n",
       "3    40\n",
       "4    50\n",
       "dtype: int64"
      ]
     },
     "execution_count": 4,
     "metadata": {},
     "output_type": "execute_result"
    }
   ],
   "execution_count": 4
  },
  {
   "metadata": {},
   "cell_type": "markdown",
   "source": "### • Sumar 10 a cada Indice",
   "id": "953a04beed4f57ee"
  },
  {
   "metadata": {
    "ExecuteTime": {
     "end_time": "2025-06-01T18:33:24.360055Z",
     "start_time": "2025-06-01T18:33:24.350028Z"
    }
   },
   "cell_type": "code",
   "source": [
    "serie = serie + 10\n",
    "serie"
   ],
   "id": "4001330e446c9107",
   "outputs": [
    {
     "data": {
      "text/plain": [
       "0    30\n",
       "1    30\n",
       "2    40\n",
       "3    50\n",
       "4    60\n",
       "dtype: int64"
      ]
     },
     "execution_count": 5,
     "metadata": {},
     "output_type": "execute_result"
    }
   ],
   "execution_count": 5
  },
  {
   "metadata": {},
   "cell_type": "markdown",
   "source": "### • Multiplicar 2 a cada Indice",
   "id": "aacaec0d392e39e3"
  },
  {
   "metadata": {
    "ExecuteTime": {
     "end_time": "2025-06-01T18:47:47.522805Z",
     "start_time": "2025-06-01T18:47:47.516768Z"
    }
   },
   "cell_type": "code",
   "source": [
    "serie = serie * 2\n",
    "serie"
   ],
   "id": "6b55e504ca49b7dc",
   "outputs": [
    {
     "data": {
      "text/plain": [
       "0     60\n",
       "1     60\n",
       "2     80\n",
       "3    100\n",
       "4    120\n",
       "dtype: int64"
      ]
     },
     "execution_count": 6,
     "metadata": {},
     "output_type": "execute_result"
    }
   ],
   "execution_count": 6
  }
 ],
 "metadata": {
  "kernelspec": {
   "display_name": "Python 3 (ipykernel)",
   "language": "python",
   "name": "python3"
  },
  "language_info": {
   "codemirror_mode": {
    "name": "ipython",
    "version": 3
   },
   "file_extension": ".py",
   "mimetype": "text/x-python",
   "name": "python",
   "nbconvert_exporter": "python",
   "pygments_lexer": "ipython3",
   "version": "3.11.5"
  }
 },
 "nbformat": 4,
 "nbformat_minor": 5
}
