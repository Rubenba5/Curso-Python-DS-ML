{
 "cells": [
  {
   "metadata": {},
   "cell_type": "markdown",
   "source": "# ⇢ Series:",
   "id": "a0194469f043dcc1"
  },
  {
   "metadata": {},
   "cell_type": "markdown",
   "source": "### • Importar Pandas",
   "id": "cf8551cd64eb7cc1"
  },
  {
   "cell_type": "code",
   "id": "cfa0531f",
   "metadata": {
    "ExecuteTime": {
     "end_time": "2025-06-01T17:58:03.609566Z",
     "start_time": "2025-06-01T17:58:02.896889Z"
    }
   },
   "source": [
    "import pandas as pd\n",
    "from pathlib import Path # Ruta"
   ],
   "outputs": [],
   "execution_count": 3
  },
  {
   "metadata": {},
   "cell_type": "markdown",
   "source": "### • Cargar DataFrame",
   "id": "1eba8841149db80e"
  },
  {
   "cell_type": "code",
   "id": "d7b64e61",
   "metadata": {
    "ExecuteTime": {
     "end_time": "2025-06-01T17:58:03.667732Z",
     "start_time": "2025-06-01T17:58:03.635176Z"
    }
   },
   "source": [
    "df = pd.read_csv(Path(Path.home(), \"Desktop\", \"Python\", \"Curso-Python-DS-ML\", \"Día 6\", \"Cuadernos para Prácticas\", \"Recursos\",\"Precipitaciones.csv\"))\n",
    "\n",
    "df.head()"
   ],
   "outputs": [
    {
     "data": {
      "text/plain": [
       "     region  enero  febrero  marzo  abril   mayo  junio  julio  agosto  \\\n",
       "0  A CORUNA  240.5    293.4   31.0   80.6  149.5  108.9   44.6    21.8   \n",
       "1  ALBACETE   68.1     28.0   26.2   65.3   25.4   50.0    2.0    34.5   \n",
       "2  ALICANTE   49.2      3.7   63.2   85.8   57.2   20.0    9.2     5.0   \n",
       "3   ALMERIA   56.3      5.2   35.8   43.1   38.8   16.9   10.2     1.9   \n",
       "4     ARABA   96.8     79.9   38.0   52.0   37.7  107.8    8.5    17.7   \n",
       "\n",
       "   septiembre  octubre  noviembre  diciembre   anual  \n",
       "0        96.5    154.5      100.8      214.8  1536.9  \n",
       "1        48.0     44.8       33.1       14.1   439.5  \n",
       "2        44.0     41.1       47.4        1.8   427.6  \n",
       "3        17.4     27.3       32.6        3.2   288.7  \n",
       "4        63.3     38.5      212.2      197.3   949.7  "
      ],
      "text/html": [
       "<div>\n",
       "<style scoped>\n",
       "    .dataframe tbody tr th:only-of-type {\n",
       "        vertical-align: middle;\n",
       "    }\n",
       "\n",
       "    .dataframe tbody tr th {\n",
       "        vertical-align: top;\n",
       "    }\n",
       "\n",
       "    .dataframe thead th {\n",
       "        text-align: right;\n",
       "    }\n",
       "</style>\n",
       "<table border=\"1\" class=\"dataframe\">\n",
       "  <thead>\n",
       "    <tr style=\"text-align: right;\">\n",
       "      <th></th>\n",
       "      <th>region</th>\n",
       "      <th>enero</th>\n",
       "      <th>febrero</th>\n",
       "      <th>marzo</th>\n",
       "      <th>abril</th>\n",
       "      <th>mayo</th>\n",
       "      <th>junio</th>\n",
       "      <th>julio</th>\n",
       "      <th>agosto</th>\n",
       "      <th>septiembre</th>\n",
       "      <th>octubre</th>\n",
       "      <th>noviembre</th>\n",
       "      <th>diciembre</th>\n",
       "      <th>anual</th>\n",
       "    </tr>\n",
       "  </thead>\n",
       "  <tbody>\n",
       "    <tr>\n",
       "      <th>0</th>\n",
       "      <td>A CORUNA</td>\n",
       "      <td>240.5</td>\n",
       "      <td>293.4</td>\n",
       "      <td>31.0</td>\n",
       "      <td>80.6</td>\n",
       "      <td>149.5</td>\n",
       "      <td>108.9</td>\n",
       "      <td>44.6</td>\n",
       "      <td>21.8</td>\n",
       "      <td>96.5</td>\n",
       "      <td>154.5</td>\n",
       "      <td>100.8</td>\n",
       "      <td>214.8</td>\n",
       "      <td>1536.9</td>\n",
       "    </tr>\n",
       "    <tr>\n",
       "      <th>1</th>\n",
       "      <td>ALBACETE</td>\n",
       "      <td>68.1</td>\n",
       "      <td>28.0</td>\n",
       "      <td>26.2</td>\n",
       "      <td>65.3</td>\n",
       "      <td>25.4</td>\n",
       "      <td>50.0</td>\n",
       "      <td>2.0</td>\n",
       "      <td>34.5</td>\n",
       "      <td>48.0</td>\n",
       "      <td>44.8</td>\n",
       "      <td>33.1</td>\n",
       "      <td>14.1</td>\n",
       "      <td>439.5</td>\n",
       "    </tr>\n",
       "    <tr>\n",
       "      <th>2</th>\n",
       "      <td>ALICANTE</td>\n",
       "      <td>49.2</td>\n",
       "      <td>3.7</td>\n",
       "      <td>63.2</td>\n",
       "      <td>85.8</td>\n",
       "      <td>57.2</td>\n",
       "      <td>20.0</td>\n",
       "      <td>9.2</td>\n",
       "      <td>5.0</td>\n",
       "      <td>44.0</td>\n",
       "      <td>41.1</td>\n",
       "      <td>47.4</td>\n",
       "      <td>1.8</td>\n",
       "      <td>427.6</td>\n",
       "    </tr>\n",
       "    <tr>\n",
       "      <th>3</th>\n",
       "      <td>ALMERIA</td>\n",
       "      <td>56.3</td>\n",
       "      <td>5.2</td>\n",
       "      <td>35.8</td>\n",
       "      <td>43.1</td>\n",
       "      <td>38.8</td>\n",
       "      <td>16.9</td>\n",
       "      <td>10.2</td>\n",
       "      <td>1.9</td>\n",
       "      <td>17.4</td>\n",
       "      <td>27.3</td>\n",
       "      <td>32.6</td>\n",
       "      <td>3.2</td>\n",
       "      <td>288.7</td>\n",
       "    </tr>\n",
       "    <tr>\n",
       "      <th>4</th>\n",
       "      <td>ARABA</td>\n",
       "      <td>96.8</td>\n",
       "      <td>79.9</td>\n",
       "      <td>38.0</td>\n",
       "      <td>52.0</td>\n",
       "      <td>37.7</td>\n",
       "      <td>107.8</td>\n",
       "      <td>8.5</td>\n",
       "      <td>17.7</td>\n",
       "      <td>63.3</td>\n",
       "      <td>38.5</td>\n",
       "      <td>212.2</td>\n",
       "      <td>197.3</td>\n",
       "      <td>949.7</td>\n",
       "    </tr>\n",
       "  </tbody>\n",
       "</table>\n",
       "</div>"
      ]
     },
     "execution_count": 4,
     "metadata": {},
     "output_type": "execute_result"
    }
   ],
   "execution_count": 4
  },
  {
   "metadata": {},
   "cell_type": "markdown",
   "source": "### • Capturar con Serie \"region\"",
   "id": "9ae0112c4ca05211"
  },
  {
   "metadata": {
    "ExecuteTime": {
     "end_time": "2025-06-01T17:58:03.861347Z",
     "start_time": "2025-06-01T17:58:03.855337Z"
    }
   },
   "cell_type": "code",
   "source": [
    "serie = df[\"region\"]\n",
    "serie.head()"
   ],
   "id": "eefa19c6d6277793",
   "outputs": [
    {
     "data": {
      "text/plain": [
       "0    A CORUNA\n",
       "1    ALBACETE\n",
       "2    ALICANTE\n",
       "3     ALMERIA\n",
       "4       ARABA\n",
       "Name: region, dtype: object"
      ]
     },
     "execution_count": 5,
     "metadata": {},
     "output_type": "execute_result"
    }
   ],
   "execution_count": 5
  },
  {
   "metadata": {},
   "cell_type": "markdown",
   "source": "### • Crear Series con una Lista de Python",
   "id": "4803cb8264bf1d31"
  },
  {
   "metadata": {
    "ExecuteTime": {
     "end_time": "2025-06-01T17:58:04.155452Z",
     "start_time": "2025-06-01T17:58:04.144499Z"
    }
   },
   "cell_type": "code",
   "source": [
    "datos = [10, 20, 30, 40, 50]\n",
    "serie2 = pd.Series(datos)\n",
    "serie2"
   ],
   "id": "d3ee4ea5737d82ef",
   "outputs": [
    {
     "data": {
      "text/plain": [
       "0    10\n",
       "1    20\n",
       "2    30\n",
       "3    40\n",
       "4    50\n",
       "dtype: int64"
      ]
     },
     "execution_count": 6,
     "metadata": {},
     "output_type": "execute_result"
    }
   ],
   "execution_count": 6
  },
  {
   "metadata": {},
   "cell_type": "markdown",
   "source": "### • Agregar Indices Personaliazados a las Series\n",
   "id": "91dc32a95a3b37e2"
  },
  {
   "metadata": {
    "ExecuteTime": {
     "end_time": "2025-06-01T17:58:51.753354Z",
     "start_time": "2025-06-01T17:58:51.745935Z"
    }
   },
   "cell_type": "code",
   "source": [
    "indices = [\"a\", \"b\", \"c\", \"d\", \"e\"]\n",
    "serie2 = pd.Series(datos, indices)\n",
    "serie2"
   ],
   "id": "333d4fbaf98257e7",
   "outputs": [
    {
     "data": {
      "text/plain": [
       "a    10\n",
       "b    20\n",
       "c    30\n",
       "d    40\n",
       "e    50\n",
       "dtype: int64"
      ]
     },
     "execution_count": 10,
     "metadata": {},
     "output_type": "execute_result"
    }
   ],
   "execution_count": 10
  },
  {
   "metadata": {},
   "cell_type": "markdown",
   "source": "### • Indixar entre Series\n",
   "id": "1d27d9e245c9b8db"
  },
  {
   "metadata": {
    "ExecuteTime": {
     "end_time": "2025-06-01T18:02:38.108552Z",
     "start_time": "2025-06-01T18:02:38.101006Z"
    }
   },
   "cell_type": "code",
   "source": "serie2[\"b\"]",
   "id": "a02abb5d4f63fb00",
   "outputs": [
    {
     "data": {
      "text/plain": [
       "np.int64(20)"
      ]
     },
     "execution_count": 11,
     "metadata": {},
     "output_type": "execute_result"
    }
   ],
   "execution_count": 11
  },
  {
   "metadata": {},
   "cell_type": "markdown",
   "source": "### • Tipo de dato de \"serie2\"\n",
   "id": "c653c41e56c714f2"
  },
  {
   "metadata": {
    "ExecuteTime": {
     "end_time": "2025-06-01T18:03:15.522164Z",
     "start_time": "2025-06-01T18:03:15.513238Z"
    }
   },
   "cell_type": "code",
   "source": "type(serie2)",
   "id": "b9ff2ff591d12eeb",
   "outputs": [
    {
     "data": {
      "text/plain": [
       "pandas.core.series.Series"
      ]
     },
     "execution_count": 12,
     "metadata": {},
     "output_type": "execute_result"
    }
   ],
   "execution_count": 12
  },
  {
   "metadata": {
    "ExecuteTime": {
     "end_time": "2025-06-01T18:03:33.928335Z",
     "start_time": "2025-06-01T18:03:33.923294Z"
    }
   },
   "cell_type": "code",
   "source": "type(serie2[\"b\"])",
   "id": "5c120d9c76ac22bb",
   "outputs": [
    {
     "data": {
      "text/plain": [
       "numpy.int64"
      ]
     },
     "execution_count": 13,
     "metadata": {},
     "output_type": "execute_result"
    }
   ],
   "execution_count": 13
  },
  {
   "metadata": {},
   "cell_type": "markdown",
   "source": "### • Diccionario Capitales\n",
   "id": "9d8a09442e9ead44"
  },
  {
   "metadata": {
    "ExecuteTime": {
     "end_time": "2025-06-01T18:05:54.790119Z",
     "start_time": "2025-06-01T18:05:54.785952Z"
    }
   },
   "cell_type": "code",
   "source": "capitales = {\"España\": \"Madrid\", \"Perú\": \"Lima\", \"Argentina\": \"Buenos Aires\"}\n",
   "id": "c4db953b4464ead2",
   "outputs": [],
   "execution_count": 16
  },
  {
   "metadata": {},
   "cell_type": "markdown",
   "source": "### • Crear Series con un Diccionario de Python",
   "id": "8f23a5cd5b9cd4c2"
  },
  {
   "metadata": {
    "ExecuteTime": {
     "end_time": "2025-06-01T18:05:56.049385Z",
     "start_time": "2025-06-01T18:05:56.042559Z"
    }
   },
   "cell_type": "code",
   "source": [
    "serie3 = pd.Series(capitales)\n",
    "serie3"
   ],
   "id": "26bcb70f776a7fb5",
   "outputs": [
    {
     "data": {
      "text/plain": [
       "España             Madrid\n",
       "Perú                 Lima\n",
       "Argentina    Buenos Aires\n",
       "dtype: object"
      ]
     },
     "execution_count": 17,
     "metadata": {},
     "output_type": "execute_result"
    }
   ],
   "execution_count": 17
  },
  {
   "metadata": {
    "ExecuteTime": {
     "end_time": "2025-06-01T18:06:52.196119Z",
     "start_time": "2025-06-01T18:06:52.190366Z"
    }
   },
   "cell_type": "code",
   "source": "serie3[\"Perú\"]",
   "id": "648fe1c57e40cc90",
   "outputs": [
    {
     "data": {
      "text/plain": [
       "'Lima'"
      ]
     },
     "execution_count": 18,
     "metadata": {},
     "output_type": "execute_result"
    }
   ],
   "execution_count": 18
  }
 ],
 "metadata": {
  "kernelspec": {
   "display_name": "Python 3 (ipykernel)",
   "language": "python",
   "name": "python3"
  },
  "language_info": {
   "codemirror_mode": {
    "name": "ipython",
    "version": 3
   },
   "file_extension": ".py",
   "mimetype": "text/x-python",
   "name": "python",
   "nbconvert_exporter": "python",
   "pygments_lexer": "ipython3",
   "version": "3.11.5"
  }
 },
 "nbformat": 4,
 "nbformat_minor": 5
}
