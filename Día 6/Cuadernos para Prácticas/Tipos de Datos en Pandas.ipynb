{
 "cells": [
  {
   "metadata": {},
   "cell_type": "markdown",
   "source": "### • Importar Pandas\n",
   "id": "917b8f5aaa21ac6c"
  },
  {
   "metadata": {
    "ExecuteTime": {
     "end_time": "2025-05-31T15:18:25.922885Z",
     "start_time": "2025-05-31T15:18:23.124927Z"
    }
   },
   "cell_type": "code",
   "source": "import pandas as pd",
   "id": "290105f72219ffbb",
   "outputs": [],
   "execution_count": 1
  },
  {
   "metadata": {},
   "cell_type": "markdown",
   "source": "### • Datos en un diccionario",
   "id": "9189cd8e40fb54eb"
  },
  {
   "cell_type": "code",
   "id": "a509bcde",
   "metadata": {
    "ExecuteTime": {
     "end_time": "2025-05-31T15:18:26.359805Z",
     "start_time": "2025-05-31T15:18:26.356040Z"
    }
   },
   "source": "datos = {\"nombre\": [\"Pedro\", \"Juan\", \"Lorena\"], \"edad\": [25, 39, 33]}",
   "outputs": [],
   "execution_count": 2
  },
  {
   "metadata": {},
   "cell_type": "markdown",
   "source": "### • Dataframe",
   "id": "c9857765414c1caf"
  },
  {
   "metadata": {
    "ExecuteTime": {
     "end_time": "2025-05-31T15:18:29.680306Z",
     "start_time": "2025-05-31T15:18:29.666044Z"
    }
   },
   "cell_type": "code",
   "source": [
    "df = pd.DataFrame(datos)\n",
    "df"
   ],
   "id": "e6fabb89565abe20",
   "outputs": [
    {
     "data": {
      "text/plain": [
       "   nombre  edad\n",
       "0   Pedro    25\n",
       "1    Juan    39\n",
       "2  Lorena    33"
      ],
      "text/html": [
       "<div>\n",
       "<style scoped>\n",
       "    .dataframe tbody tr th:only-of-type {\n",
       "        vertical-align: middle;\n",
       "    }\n",
       "\n",
       "    .dataframe tbody tr th {\n",
       "        vertical-align: top;\n",
       "    }\n",
       "\n",
       "    .dataframe thead th {\n",
       "        text-align: right;\n",
       "    }\n",
       "</style>\n",
       "<table border=\"1\" class=\"dataframe\">\n",
       "  <thead>\n",
       "    <tr style=\"text-align: right;\">\n",
       "      <th></th>\n",
       "      <th>nombre</th>\n",
       "      <th>edad</th>\n",
       "    </tr>\n",
       "  </thead>\n",
       "  <tbody>\n",
       "    <tr>\n",
       "      <th>0</th>\n",
       "      <td>Pedro</td>\n",
       "      <td>25</td>\n",
       "    </tr>\n",
       "    <tr>\n",
       "      <th>1</th>\n",
       "      <td>Juan</td>\n",
       "      <td>39</td>\n",
       "    </tr>\n",
       "    <tr>\n",
       "      <th>2</th>\n",
       "      <td>Lorena</td>\n",
       "      <td>33</td>\n",
       "    </tr>\n",
       "  </tbody>\n",
       "</table>\n",
       "</div>"
      ]
     },
     "execution_count": 4,
     "metadata": {},
     "output_type": "execute_result"
    }
   ],
   "execution_count": 4
  },
  {
   "metadata": {},
   "cell_type": "markdown",
   "source": "### • Tipo de Dato (Dataframe)",
   "id": "a1db39d417135d80"
  },
  {
   "metadata": {
    "ExecuteTime": {
     "end_time": "2025-05-31T15:19:06.440352Z",
     "start_time": "2025-05-31T15:19:06.434752Z"
    }
   },
   "cell_type": "code",
   "source": "type(df)",
   "id": "f41e4b8cd2c21bf8",
   "outputs": [
    {
     "data": {
      "text/plain": [
       "pandas.core.frame.DataFrame"
      ]
     },
     "execution_count": 5,
     "metadata": {},
     "output_type": "execute_result"
    }
   ],
   "execution_count": 5
  },
  {
   "metadata": {},
   "cell_type": "markdown",
   "source": "### • Capturar Serie Nombre de Dataframe",
   "id": "4563a1644795e89b"
  },
  {
   "metadata": {},
   "cell_type": "markdown",
   "source": "#### 1. Indexación",
   "id": "76029c92986fea4f"
  },
  {
   "metadata": {
    "ExecuteTime": {
     "end_time": "2025-05-31T15:20:39.180709Z",
     "start_time": "2025-05-31T15:20:39.173653Z"
    }
   },
   "cell_type": "code",
   "source": "df[\"nombre\"]",
   "id": "74fa912304839ea1",
   "outputs": [
    {
     "data": {
      "text/plain": [
       "0     Pedro\n",
       "1      Juan\n",
       "2    Lorena\n",
       "Name: nombre, dtype: object"
      ]
     },
     "execution_count": 6,
     "metadata": {},
     "output_type": "execute_result"
    }
   ],
   "execution_count": 6
  },
  {
   "metadata": {},
   "cell_type": "markdown",
   "source": "#### 2. Atributos",
   "id": "97743ee70220644a"
  },
  {
   "metadata": {
    "ExecuteTime": {
     "end_time": "2025-05-31T15:23:15.300866Z",
     "start_time": "2025-05-31T15:23:15.293630Z"
    }
   },
   "cell_type": "code",
   "source": "df.nombre",
   "id": "68ae9599d2cc5646",
   "outputs": [
    {
     "data": {
      "text/plain": [
       "0     Pedro\n",
       "1      Juan\n",
       "2    Lorena\n",
       "Name: nombre, dtype: object"
      ]
     },
     "execution_count": 7,
     "metadata": {},
     "output_type": "execute_result"
    }
   ],
   "execution_count": 7
  },
  {
   "metadata": {},
   "cell_type": "markdown",
   "source": "### • Tipo de datos \"df.nombre\"",
   "id": "ba7f78c61e2b3ad3"
  },
  {
   "metadata": {
    "ExecuteTime": {
     "end_time": "2025-05-31T15:24:48.058540Z",
     "start_time": "2025-05-31T15:24:48.052370Z"
    }
   },
   "cell_type": "code",
   "source": "type(df.nombre)",
   "id": "387eecf6e7847030",
   "outputs": [
    {
     "data": {
      "text/plain": [
       "pandas.core.series.Series"
      ]
     },
     "execution_count": 8,
     "metadata": {},
     "output_type": "execute_result"
    }
   ],
   "execution_count": 8
  }
 ],
 "metadata": {
  "kernelspec": {
   "display_name": "Python 3 (ipykernel)",
   "language": "python",
   "name": "python3"
  },
  "language_info": {
   "codemirror_mode": {
    "name": "ipython",
    "version": 3
   },
   "file_extension": ".py",
   "mimetype": "text/x-python",
   "name": "python",
   "nbconvert_exporter": "python",
   "pygments_lexer": "ipython3",
   "version": "3.11.5"
  }
 },
 "nbformat": 4,
 "nbformat_minor": 5
}
