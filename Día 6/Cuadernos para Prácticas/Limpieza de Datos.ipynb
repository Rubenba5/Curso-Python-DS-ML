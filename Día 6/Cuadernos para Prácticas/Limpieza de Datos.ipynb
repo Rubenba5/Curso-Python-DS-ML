{
 "cells": [
  {
   "metadata": {},
   "cell_type": "markdown",
   "source": "# ⇢ Limpieza de Datos:\n",
   "id": "83d04b85a0660267"
  },
  {
   "metadata": {},
   "cell_type": "markdown",
   "source": "### • Preparación\n",
   "id": "514a2cc495281e29"
  },
  {
   "cell_type": "code",
   "execution_count": null,
   "id": "cbe6e53a",
   "metadata": {
    "scrolled": true
   },
   "outputs": [],
   "source": [
    "import pandas as pd\n",
    "\n",
    "data = {\"Id_producto\": [1001, 1002, 1003, 1003],\n",
    "        \"Cantidad_vendida\": [30, None, 25, 25],\n",
    "        \"Precio\": [20.5, 15.0, None, 22.5]}\n",
    "\n",
    "df = pd.DataFrame(data)\n",
    "df"
   ]
  },
  {
   "metadata": {},
   "cell_type": "markdown",
   "source": "### •\n",
   "id": "f07a7f61648bba96"
  },
  {
   "metadata": {},
   "cell_type": "code",
   "outputs": [],
   "execution_count": null,
   "source": "",
   "id": "4f3e7d3b10a77919"
  }
 ],
 "metadata": {
  "kernelspec": {
   "display_name": "Python 3 (ipykernel)",
   "language": "python",
   "name": "python3"
  },
  "language_info": {
   "codemirror_mode": {
    "name": "ipython",
    "version": 3
   },
   "file_extension": ".py",
   "mimetype": "text/x-python",
   "name": "python",
   "nbconvert_exporter": "python",
   "pygments_lexer": "ipython3",
   "version": "3.11.5"
  }
 },
 "nbformat": 4,
 "nbformat_minor": 5
}
